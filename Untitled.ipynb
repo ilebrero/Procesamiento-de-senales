{
 "cells": [
  {
   "cell_type": "code",
   "execution_count": 21,
   "metadata": {},
   "outputs": [
    {
     "name": "stdout",
     "output_type": "stream",
     "text": [
      "                                 archivo  relacion_fundamental_harmonicos\n",
      "0     _D6_025_fortissimo_arco-normal.mp3                         0.356826\n",
      "1    _Gs5_025_fortissimo_arco-normal.mp3                         0.355798\n",
      "2     _As4_15_fortissimo_arco-normal.mp3                         0.422070\n",
      "3     _As5_15_fortissimo_arco-normal.mp3                         0.391828\n",
      "4    _Gs4_025_fortissimo_arco-normal.mp3                         0.390003\n",
      "..                                   ...                              ...\n",
      "177   _Ds7_05_fortissimo_arco-normal.mp3                         0.351730\n",
      "178     _G7_1_fortissimo_arco-normal.mp3                         0.358401\n",
      "179   _Cs5_05_fortissimo_arco-normal.mp3                         0.373254\n",
      "180    _G4_15_fortissimo_arco-normal.mp3                         0.318538\n",
      "181   _B5_025_fortissimo_arco-normal.mp3                         0.348016\n",
      "\n",
      "[182 rows x 2 columns]\n"
     ]
    }
   ],
   "source": [
    "import pandas as pn\n",
    "import numpy as np\n",
    "\n",
    "a = pn.read_csv(\"resultados.csv\")\n",
    "print(a)"
   ]
  },
  {
   "cell_type": "code",
   "execution_count": 10,
   "metadata": {},
   "outputs": [
    {
     "name": "stdout",
     "output_type": "stream",
     "text": [
      "0.35950198890109886\n",
      "0.024452671050497653\n",
      "0.35690311500000005\n"
     ]
    }
   ],
   "source": [
    "print(np.average(a[\"relacion_fundamental_harmonicos\"]))\n",
    "print(np.std(a[\"relacion_fundamental_harmonicos\"]))"
   ]
  },
  {
   "cell_type": "code",
   "execution_count": 15,
   "metadata": {},
   "outputs": [
    {
     "name": "stdout",
     "output_type": "stream",
     "text": [
      "                                             archivo  \\\n",
      "0                  clash-cymbals__1_forte_damped.mp3   \n",
      "1        clash-cymbals__025_mezzo-forte_undamped.mp3   \n",
      "2   clash-cymbals__15_fortissimo_struck-together.mp3   \n",
      "3         clash-cymbals__1_piano_struck-together.mp3   \n",
      "4             clash-cymbals__long_forte_undamped.mp3   \n",
      "5                 clash-cymbals__05_forte_damped.mp3   \n",
      "6  clash-cymbals__long_fortissimo_struck-together...   \n",
      "\n",
      "   relacion_fundamental_harmonicos  \n",
      "0                         0.352975  \n",
      "1                         0.348147  \n",
      "2                         0.351673  \n",
      "3                         0.352570  \n",
      "4                         0.352451  \n",
      "5                         0.349616  \n",
      "6                         0.351379  \n"
     ]
    }
   ],
   "source": [
    "b = pn.read_csv(\"resultados_platillos.csv\")\n",
    "print(b)"
   ]
  },
  {
   "cell_type": "code",
   "execution_count": 16,
   "metadata": {},
   "outputs": [
    {
     "name": "stdout",
     "output_type": "stream",
     "text": [
      "0.3512588428571428\n",
      "0.0016325077065555624\n"
     ]
    }
   ],
   "source": [
    "print(np.average(b[\"relacion_fundamental_harmonicos\"]))\n",
    "print(np.std(b[\"relacion_fundamental_harmonicos\"]))"
   ]
  },
  {
   "cell_type": "code",
   "execution_count": 19,
   "metadata": {},
   "outputs": [
    {
     "name": "stdout",
     "output_type": "stream",
     "text": [
      "                               archivo  relacion_fundamental_harmonicos\n",
      "0    flute_G6_15_fortissimo_normal.mp3                         0.404127\n",
      "1   flute_D7_025_fortissimo_normal.mp3                         0.340558\n",
      "2  flute_Ds7_025_fortissimo_normal.mp3                         0.387922\n",
      "3    flute_D7_05_fortissimo_normal.mp3                         0.361227\n",
      "4  flute_G6_long_fortissimo_normal.mp3                         0.435677\n",
      "5     flute_D7_1_fortissimo_normal.mp3                         0.345122\n",
      "6   flute_Ds7_05_fortissimo_normal.mp3                         0.345352\n",
      "7    flute_D7_15_fortissimo_normal.mp3                         0.337749\n"
     ]
    }
   ],
   "source": [
    "b = pn.read_csv(\"resultados_platillos.csv\")\n",
    "print(b)"
   ]
  },
  {
   "cell_type": "code",
   "execution_count": 20,
   "metadata": {},
   "outputs": [
    {
     "name": "stdout",
     "output_type": "stream",
     "text": [
      "0.369716825\n",
      "0.03355776141821889\n"
     ]
    }
   ],
   "source": [
    "print(np.average(b[\"relacion_fundamental_harmonicos\"]))\n",
    "print(np.std(b[\"relacion_fundamental_harmonicos\"]))"
   ]
  },
  {
   "cell_type": "code",
   "execution_count": 29,
   "metadata": {},
   "outputs": [
    {
     "name": "stdout",
     "output_type": "stream",
     "text": [
      "0      0.361205\n",
      "1      0.370526\n",
      "2      0.335627\n",
      "3      0.411148\n",
      "4      0.342029\n",
      "         ...   \n",
      "132    0.461051\n",
      "133    0.483821\n",
      "134    0.356045\n",
      "135    0.365364\n",
      "136    0.339266\n",
      "Name: _arco_normal_pianissimo, Length: 137, dtype: float64\n"
     ]
    }
   ],
   "source": [
    "violin_pianisimo = pn.read_csv(\"resultados_violin.csv\")\n",
    "vals = violin_pianisimo[violin_pianisimo.columns[1]]\n",
    "print(vals)"
   ]
  },
  {
   "cell_type": "code",
   "execution_count": 38,
   "metadata": {},
   "outputs": [
    {
     "name": "stdout",
     "output_type": "stream",
     "text": [
      "0.35950198890109886\n",
      "0.024452671050497653\n",
      "0.35913149629629626\n",
      "0.018180672465962784\n"
     ]
    }
   ],
   "source": [
    "vals_no_out = vals.between(vals.quantile(.05), vals.quantile(.95))\n",
    "vals_no_out = vals[vals_no_out]\n",
    "\n",
    "print(np.average(vals))\n",
    "print(np.std(vals))\n",
    "\n",
    "print(np.average(vals_no_out))\n",
    "print(np.std(vals_no_out))\n",
    "\n"
   ]
  },
  {
   "cell_type": "code",
   "execution_count": 31,
   "metadata": {},
   "outputs": [
    {
     "name": "stdout",
     "output_type": "stream",
     "text": [
      "0      0.356826\n",
      "1      0.355798\n",
      "2      0.422070\n",
      "3      0.391828\n",
      "4      0.390003\n",
      "         ...   \n",
      "177    0.351730\n",
      "178    0.358401\n",
      "179    0.373254\n",
      "180    0.318538\n",
      "181    0.348016\n",
      "Name: _arco_normal_fortissimo, Length: 182, dtype: float64\n"
     ]
    }
   ],
   "source": [
    "violin_fortissimo = pn.read_csv(\"resultados_violin_fortissimo.csv\")\n",
    "vals = violin_fortissimo[violin_fortissimo.columns[1]]\n",
    "print(vals)"
   ]
  },
  {
   "cell_type": "code",
   "execution_count": 39,
   "metadata": {},
   "outputs": [
    {
     "name": "stdout",
     "output_type": "stream",
     "text": [
      "0.35950198890109886\n",
      "0.024452671050497653\n",
      "0.35913149629629626\n",
      "0.018180672465962784\n"
     ]
    }
   ],
   "source": [
    "vals_no_out = vals.between(vals.quantile(.05), vals.quantile(.95))\n",
    "vals_no_out = vals[vals_no_out]\n",
    "\n",
    "print(np.average(vals))\n",
    "print(np.std(vals))\n",
    "\n",
    "print(np.average(vals_no_out))\n",
    "print(np.std(vals_no_out))"
   ]
  },
  {
   "cell_type": "code",
   "execution_count": null,
   "metadata": {},
   "outputs": [],
   "source": []
  }
 ],
 "metadata": {
  "kernelspec": {
   "display_name": "Python 3",
   "language": "python",
   "name": "python3"
  },
  "language_info": {
   "codemirror_mode": {
    "name": "ipython",
    "version": 3
   },
   "file_extension": ".py",
   "mimetype": "text/x-python",
   "name": "python",
   "nbconvert_exporter": "python",
   "pygments_lexer": "ipython3",
   "version": "3.6.9"
  }
 },
 "nbformat": 4,
 "nbformat_minor": 2
}
